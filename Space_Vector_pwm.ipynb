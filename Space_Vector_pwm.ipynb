{
 "cells": [
  {
   "cell_type": "code",
   "execution_count": 1,
   "metadata": {},
   "outputs": [],
   "source": [
    "import math as ma\n",
    "import numpy as np\n",
    "import matplotlib.pyplot as plt"
   ]
  },
  {
   "cell_type": "code",
   "execution_count": 2,
   "metadata": {},
   "outputs": [],
   "source": [
    "frec = 60\n",
    "#Definición vectores directores\n",
    "v1 = [1,0,0]\n",
    "v2 = [1,1,0]\n",
    "v3 = [0,1,0]\n",
    "v4 = [0,1,1]\n",
    "v5 = [0,0,1]\n",
    "v6 = [1,0,1]\n",
    "Tz = 1/frec*1000\n",
    "# Periodo asociado a cada sector:\n",
    "# n = cantidad de vectores intermedios por cada sector\n",
    "\n"
   ]
  },
  {
   "cell_type": "code",
   "execution_count": 3,
   "metadata": {},
   "outputs": [],
   "source": [
    "def tiempos(alpha,r):\n",
    "    #voltajes fase neutro\n",
    "    Van = ma.sin(ma.radians(alpha))\n",
    "    Vbn = ma.sin(ma.radians(alpha -120))\n",
    "    Vcn = ma.sin(ma.radians(alpha -240))\n",
    "    #vector voltajes fase\n",
    "    Vf = np.array([Van,Vbn,Vcn])\n",
    "    #Proyección ortogonal sobre plano de 2 dimensiones (d,q)\n",
    "    Vd,Vq = np.matmul(((2/3)*(np.array([[1,-0.5,-0.5],[0,(ma.sqrt(3)/2),-(ma.sqrt(3)/2)]]))),Vf)\n",
    "\n",
    "    # Magnitud y ángulo de la proyección\n",
    "    Vref = ma.sqrt(Vd**2 + Vq**2)*(ma.sqrt(2)/2)*r\n",
    "    #print(f\"Vref = {Vref}\")\n",
    "    betha = round(ma.atan(Vq/Vd),9) \n",
    "\n",
    "    if (abs(betha)>ma.radians(60)):\n",
    "        betha = round(abs(betha)-ma.radians(30),9)\n",
    "    #print(f\"betha = {np.degrees(betha) }\")\n",
    "\n",
    "    #Tiempos\n",
    "    a = Vref/((ma.sqrt(2)/2))\n",
    "    T1 = abs(Tz*round(a*(ma.sin(ma.radians(60) - betha) / ma.sin(ma.radians(60))),6)) \n",
    "    T2 = abs (Tz*round(a*(ma.sin(betha)/ma.sin(ma.radians(60))),6))\n",
    "    T0 = Tz-T1-T2\n",
    "    T = [T0,T1,T2]\n",
    "    return T\n"
   ]
  },
  {
   "cell_type": "code",
   "execution_count": null,
   "metadata": {},
   "outputs": [],
   "source": []
  },
  {
   "cell_type": "code",
   "execution_count": null,
   "metadata": {},
   "outputs": [],
   "source": []
  },
  {
   "cell_type": "code",
   "execution_count": null,
   "metadata": {},
   "outputs": [],
   "source": []
  }
 ],
 "metadata": {
  "kernelspec": {
   "display_name": "Python 3.6.9 64-bit",
   "language": "python",
   "name": "python3"
  },
  "language_info": {
   "codemirror_mode": {
    "name": "ipython",
    "version": 3
   },
   "file_extension": ".py",
   "mimetype": "text/x-python",
   "name": "python",
   "nbconvert_exporter": "python",
   "pygments_lexer": "ipython3",
   "version": "3.6.9"
  },
  "orig_nbformat": 4,
  "vscode": {
   "interpreter": {
    "hash": "31f2aee4e71d21fbe5cf8b01ff0e069b9275f58929596ceb00d14d90e3e16cd6"
   }
  }
 },
 "nbformat": 4,
 "nbformat_minor": 2
}
